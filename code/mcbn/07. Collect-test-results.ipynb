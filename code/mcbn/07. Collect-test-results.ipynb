{
 "cells": [
  {
   "cell_type": "code",
   "execution_count": null,
   "metadata": {
    "collapsed": true
   },
   "outputs": [],
   "source": [
    "import os\n",
    "from pandas import DataFrame as DF\n",
    "\n",
    "from mcbn.utils.helper import get_setup\n",
    "from mcbn.utils.helper import get_directories_in_path\n",
    "from mcbn.environment.constants import TEST_EVAL_PATH"
   ]
  },
  {
   "cell_type": "code",
   "execution_count": null,
   "metadata": {
    "collapsed": true
   },
   "outputs": [],
   "source": [
    "s = get_setup()\n",
    "dataset_names = s['datasets']\n",
    "all_models = s['models'] + ['{} const'.format(m) for m in s['models'] if 'MC' in m]"
   ]
  },
  {
   "cell_type": "code",
   "execution_count": null,
   "metadata": {
    "collapsed": true,
    "scrolled": false
   },
   "outputs": [],
   "source": [
    "split_count = {dn: 0 for dn in dataset_names}\n",
    "all_results_df = None\n",
    "\n",
    "for dirname in sorted(os.listdir(TEST_EVAL_PATH)):\n",
    "    dataset_split_eval_path = os.path.join(TEST_EVAL_PATH, dirname)\n",
    "    dataset_name = get_directories_in_path(dataset_split_eval_path)[0]\n",
    "    \n",
    "    split_count[dataset_name] += 1\n",
    "    results_dir_path = os.path.join(dataset_split_eval_path, dataset_name)\n",
    "    \n",
    "    for m in all_models:\n",
    "        results_path = os.path.join(results_dir_path, '{}.csv'.format(m))\n",
    "        results_df = DF.from_csv(results_path)\n",
    "        \n",
    "        final_result_df = results_df.groupby('run_count').tail(1).reset_index(drop=True)\n",
    "        final_result_df['split_seed'] = s['split_seed']\n",
    "        final_result_df['dataset'] = dataset_name\n",
    "        \n",
    "        if 'MC' in m:\n",
    "            base_model = m.replace(' const', '')\n",
    "            optimal_results_path = os.path.join(results_dir_path, '{} optimum_predictions.csv'.format(base_model))\n",
    "            optimal_results_df = DF.from_csv(optimal_results_path)\n",
    "            \n",
    "            # CRPS\n",
    "            final_result_df['CRPS_opt'] = optimal_results_df['{} CRPS_opt'.format(base_model)].values\n",
    "            \n",
    "            # PLL\n",
    "            final_result_df['PLL_opt'] = optimal_results_df['{} PLL_opt'.format(base_model)].values\n",
    "        else:\n",
    "            final_result_df['CRPS_opt'] = None\n",
    "            final_result_df['PLL_opt'] = None\n",
    "        \n",
    "        if all_results_df is None:\n",
    "            all_results_df = final_result_df\n",
    "        else:\n",
    "            all_results_df = all_results_df.append(final_result_df, ignore_index=True)\n",
    "            "
   ]
  },
  {
   "cell_type": "code",
   "execution_count": null,
   "metadata": {
    "collapsed": true
   },
   "outputs": [],
   "source": [
    "col_order = ['dataset','model','split_seed','run_count','CRPS','PLL','RMSE','CRPS_opt','PLL_opt']\n",
    "all_results_df = all_results_df[col_order]\n",
    "all_results_df['model'].replace({'MCBN const': 'CUBN', 'MCDO const': 'CUDO'}, inplace=True)\n",
    "all_results_df.to_csv('final_results.csv')"
   ]
  }
 ],
 "metadata": {
  "kernelspec": {
   "display_name": "Python 2",
   "language": "python",
   "name": "python2"
  },
  "language_info": {
   "codemirror_mode": {
    "name": "ipython",
    "version": 2
   },
   "file_extension": ".py",
   "mimetype": "text/x-python",
   "name": "python",
   "nbconvert_exporter": "python",
   "pygments_lexer": "ipython2",
   "version": "2.7.12"
  }
 },
 "nbformat": 4,
 "nbformat_minor": 2
}
