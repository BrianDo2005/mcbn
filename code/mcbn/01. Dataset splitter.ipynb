{
 "cells": [
  {
   "cell_type": "code",
   "execution_count": null,
   "metadata": {
    "collapsed": true
   },
   "outputs": [],
   "source": [
    "import os\n",
    "\n",
    "import numpy as np\n",
    "\n",
    "import mcbn.data.dataset_loaders as dl\n",
    "from mcbn.utils.helper import get_setup\n",
    "from mcbn.utils.helper import random_subset_indices\n",
    "from mcbn.utils.helper import get_logger\n",
    "\n",
    "from mcbn.environment.constants import DATA_PATH"
   ]
  },
  {
   "cell_type": "markdown",
   "metadata": {},
   "source": [
    "# Split datasets into test and training/CV"
   ]
  },
  {
   "cell_type": "code",
   "execution_count": null,
   "metadata": {
    "collapsed": true
   },
   "outputs": [],
   "source": [
    "logger = get_logger()\n",
    "\n",
    "logger.info(\"STEP 1: Splitting datasets into test and training/CV\")\n",
    "\n",
    "s = get_setup()\n",
    "\n",
    "# Set random generator seed for reproducible splits\n",
    "np.random.seed(s['split_seed'])"
   ]
  },
  {
   "cell_type": "code",
   "execution_count": null,
   "metadata": {
    "collapsed": true
   },
   "outputs": [],
   "source": [
    "for dataset_name in s['datasets']:\n",
    "    logger.info(\"Making splits for dataset \" + dataset_name)\n",
    "    \n",
    "    # Load full dataset\n",
    "    X, y = dl.load_uci_data_full(dataset_name)\n",
    "    \n",
    "    # Get test examples count\n",
    "    N = y.shape[0]\n",
    "    test_count = int(round(s['test_fraction'] * N))\n",
    "    \n",
    "    # Get indices of test and training/validation data at random\n",
    "    test_idx, trainval_idx = random_subset_indices(y, test_count)\n",
    "    \n",
    "    path = os.path.join(DATA_PATH, dataset_name, 'train_cv-test')\n",
    "    dl.save_indices(path, 'test_indices.txt', test_idx)\n",
    "    dl.save_indices(path, 'train_cv_indices.txt', trainval_idx)"
   ]
  },
  {
   "cell_type": "code",
   "execution_count": null,
   "metadata": {
    "collapsed": true
   },
   "outputs": [],
   "source": [
    "logger.info(\"DONE STEP 1\")"
   ]
  }
 ],
 "metadata": {
  "kernelspec": {
   "display_name": "Python 2",
   "language": "python",
   "name": "python2"
  },
  "language_info": {
   "codemirror_mode": {
    "name": "ipython",
    "version": 2
   },
   "file_extension": ".py",
   "mimetype": "text/x-python",
   "name": "python",
   "nbconvert_exporter": "python",
   "pygments_lexer": "ipython2",
   "version": "2.7.12"
  }
 },
 "nbformat": 4,
 "nbformat_minor": 2
}
